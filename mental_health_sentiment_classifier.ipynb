{
 "cells": [
  {
   "cell_type": "code",
   "execution_count": null,
   "id": "a75c4f36-0b07-4906-a5a5-114a5f333061",
   "metadata": {},
   "outputs": [],
   "source": [
    "import pandas as pd\n",
    "import matplotlib.pyplot as plt\n",
    "import os"
   ]
  },
  {
   "cell_type": "code",
   "execution_count": null,
   "id": "86c3488b-f61d-48fe-b57e-e5698916a9cb",
   "metadata": {},
   "outputs": [],
   "source": [
    "df = pd.read_csv(\"data/Combined Data.csv\", index_col=0)\n",
    "df.head()"
   ]
  },
  {
   "cell_type": "code",
   "execution_count": null,
   "id": "97ce3a67-7f14-40b3-a09b-ddded09e9ce0",
   "metadata": {},
   "outputs": [],
   "source": [
    "df.status.value_counts().plot(kind='bar')"
   ]
  },
  {
   "cell_type": "code",
   "execution_count": null,
   "id": "6d623124-83a3-49a5-929a-89a142c7fdb7",
   "metadata": {},
   "outputs": [],
   "source": [
    "df = df[(df['status'] == 'Normal') | (df['status'] == 'Depression')]"
   ]
  },
  {
   "cell_type": "code",
   "execution_count": null,
   "id": "c437827d-c880-46d4-8adb-319a8530eee9",
   "metadata": {},
   "outputs": [],
   "source": [
    "df.status.value_counts().plot(kind='bar')"
   ]
  },
  {
   "cell_type": "code",
   "execution_count": null,
   "id": "30b4249c-d1d1-4d32-ab47-957448aceff4",
   "metadata": {},
   "outputs": [],
   "source": [
    "df.sample(5)"
   ]
  },
  {
   "cell_type": "code",
   "execution_count": null,
   "id": "319cbb2e-9310-49c0-979d-09a65b1ca56b",
   "metadata": {},
   "outputs": [],
   "source": [
    "df.shape"
   ]
  },
  {
   "cell_type": "code",
   "execution_count": null,
   "id": "9068b39a-8e6e-4b32-b88e-91f4b7487270",
   "metadata": {},
   "outputs": [],
   "source": [
    "df.info()"
   ]
  },
  {
   "cell_type": "code",
   "execution_count": null,
   "id": "4af184fd-5a9c-4d9d-a93d-ee8519282acb",
   "metadata": {},
   "outputs": [],
   "source": [
    "df.isna().sum()"
   ]
  },
  {
   "cell_type": "code",
   "execution_count": null,
   "id": "9f8293d4-39cc-41d9-96af-2f4e773533dc",
   "metadata": {},
   "outputs": [],
   "source": [
    "df = df.dropna()"
   ]
  },
  {
   "cell_type": "code",
   "execution_count": null,
   "id": "9d797861-c8c1-4823-bcfb-ef9c50e27298",
   "metadata": {},
   "outputs": [],
   "source": [
    "df.isna().sum(), df.shape"
   ]
  },
  {
   "cell_type": "code",
   "execution_count": null,
   "id": "b3a9254e-5fd2-432d-bbbb-8d56edaae93e",
   "metadata": {},
   "outputs": [],
   "source": [
    "index = [x for x in range(31747)]\n",
    "df.index = index"
   ]
  },
  {
   "cell_type": "code",
   "execution_count": null,
   "id": "2cc1c02c-c71f-4bd7-b171-51eb6a88483c",
   "metadata": {},
   "outputs": [],
   "source": [
    "df.head()"
   ]
  },
  {
   "cell_type": "code",
   "execution_count": null,
   "id": "1e48d24d-0a2f-459b-8d76-2715a1f2c9b5",
   "metadata": {},
   "outputs": [],
   "source": [
    "def categorize(row):\n",
    "    if row == 'Normal':\n",
    "        return 1\n",
    "    elif row == 'Depression':\n",
    "        return 0"
   ]
  },
  {
   "cell_type": "code",
   "execution_count": null,
   "id": "ce2e20f4-0cdf-401f-a24f-c7a0cbaebd1d",
   "metadata": {},
   "outputs": [],
   "source": [
    "df['status'] = df.status.apply(categorize)"
   ]
  },
  {
   "cell_type": "code",
   "execution_count": null,
   "id": "5955e9a6-ca61-40f2-ace9-f46058c437b9",
   "metadata": {},
   "outputs": [],
   "source": [
    "from sklearn.model_selection import train_test_split"
   ]
  },
  {
   "cell_type": "code",
   "execution_count": null,
   "id": "779841e6-545e-4db0-8e16-9f77278ed390",
   "metadata": {},
   "outputs": [],
   "source": [
    "X, y = df.statement.copy(), df.status.copy()"
   ]
  },
  {
   "cell_type": "code",
   "execution_count": null,
   "id": "f4b0b5a1-e869-489f-b97b-5d758bf07bf5",
   "metadata": {},
   "outputs": [],
   "source": [
    "X, y"
   ]
  },
  {
   "cell_type": "code",
   "execution_count": null,
   "id": "ad68f5d0-6d6f-4b23-a6a0-86d658bfe4d0",
   "metadata": {},
   "outputs": [],
   "source": [
    "X_train, X_test, y_train, y_test = train_test_split(X, y, random_state=42, test_size=.1)"
   ]
  },
  {
   "cell_type": "code",
   "execution_count": null,
   "id": "c864eaaa-869a-472a-9ef7-7a3eb03732ae",
   "metadata": {},
   "outputs": [],
   "source": [
    "X_train.shape, X_test.shape, y_train.shape, y_test.shape"
   ]
  },
  {
   "cell_type": "code",
   "execution_count": null,
   "id": "9870c35e-b45a-48ac-bbdc-88d846e495bd",
   "metadata": {},
   "outputs": [],
   "source": [
    "import tensorflow as tf\n",
    "import keras\n",
    "import keras_nlp"
   ]
  },
  {
   "cell_type": "code",
   "execution_count": null,
   "id": "2180e92a-2571-424b-8337-48fdc56e9e43",
   "metadata": {},
   "outputs": [],
   "source": [
    "os.environ[\"KERAS_BACKEND\"] = \"tensorflow\""
   ]
  },
  {
   "cell_type": "code",
   "execution_count": null,
   "id": "b54cece9-426c-439e-98c0-b399a803b79d",
   "metadata": {},
   "outputs": [],
   "source": [
    "tokenizer = tf.keras.preprocessing.text.Tokenizer()"
   ]
  },
  {
   "cell_type": "code",
   "execution_count": null,
   "id": "3b4f2372-cffd-4f79-87bc-836d0a7d852f",
   "metadata": {},
   "outputs": [],
   "source": [
    "tokenizer.fit_on_texts(X_train)"
   ]
  },
  {
   "cell_type": "code",
   "execution_count": null,
   "id": "ebd23bbb-73b6-4efe-89ea-06336efa9d0e",
   "metadata": {},
   "outputs": [],
   "source": [
    "X_train = tokenizer.texts_to_matrix(X_train, mode='binary')\n",
    "X_test = tokenizer.texts_to_matrix(X_test, mode='binary')"
   ]
  },
  {
   "cell_type": "code",
   "execution_count": null,
   "id": "ef25d0c9-76f6-4a7f-8add-478473c57f35",
   "metadata": {},
   "outputs": [],
   "source": [
    "y_train = tf.keras.utils.to_categorical(y_train)\n",
    "y_test = tf.keras.utils.to_categorical(y_test)"
   ]
  },
  {
   "cell_type": "code",
   "execution_count": null,
   "id": "5ddbed18-d415-44db-9d31-14ca4572800f",
   "metadata": {},
   "outputs": [],
   "source": [
    "input_dim = X_train.shape[1]\n",
    "nb_classes = y_train.shape[1]"
   ]
  },
  {
   "cell_type": "code",
   "execution_count": null,
   "id": "2ed22a6c-0fa4-49f0-ba85-b48058e39463",
   "metadata": {},
   "outputs": [],
   "source": [
    "model = tf.keras.models.Sequential()\n",
    "model.add(tf.keras.layers.Dense(128, input_dim=input_dim))\n",
    "model.add(tf.keras.layers.Activation('sigmoid'))\n",
    "model.add(tf.keras.layers.Dense(128))\n",
    "model.add(tf.keras.layers.Activation('sigmoid'))\n",
    "model.add(tf.keras.layers.Dense(128))\n",
    "model.add(tf.keras.layers.Activation('sigmoid'))\n",
    "model.add(tf.keras.layers.Dense(128))\n",
    "model.add(tf.keras.layers.Activation('sigmoid'))\n",
    "model.add(tf.keras.layers.Dense(128))\n",
    "model.add(tf.keras.layers.Activation('sigmoid'))\n",
    "model.add(tf.keras.layers.Dense(128))\n",
    "model.add(tf.keras.layers.Activation('sigmoid'))\n",
    "model.add(tf.keras.layers.Dense(128))\n",
    "model.add(tf.keras.layers.Activation('sigmoid'))\n",
    "model.add(tf.keras.layers.Dense(128))\n",
    "model.add(tf.keras.layers.Activation('sigmoid'))\n",
    "model.add(tf.keras.layers.Dense(128))\n",
    "model.add(tf.keras.layers.Activation('sigmoid'))\n",
    "model.add(tf.keras.layers.Dense(128))\n",
    "model.add(tf.keras.layers.Activation('sigmoid'))\n",
    "model.add(tf.keras.layers.Dense(nb_classes))\n",
    "model.add(tf.keras.layers.Activation('softmax'))"
   ]
  },
  {
   "cell_type": "code",
   "execution_count": null,
   "id": "9eb33b5e-320b-4ff4-a46e-ab6d9a9390a4",
   "metadata": {},
   "outputs": [],
   "source": [
    "model.compile(\n",
    "    loss='binary_crossentropy',\n",
    "    optimizer='adam',\n",
    "    metrics=['accuracy']\n",
    ")"
   ]
  },
  {
   "cell_type": "code",
   "execution_count": null,
   "id": "44d55e64-f7f4-4da7-adf3-47c2a9a95dbd",
   "metadata": {},
   "outputs": [],
   "source": [
    "model.summary()"
   ]
  },
  {
   "cell_type": "code",
   "execution_count": null,
   "id": "1943e294-c94b-4862-bbd1-629cb34fc8de",
   "metadata": {},
   "outputs": [],
   "source": [
    "# print('Training...')\n",
    "# model.fit(X_train, y_train, epochs=10, batch_size=32, validation_split=.1, shuffle=False, verbose=2)"
   ]
  },
  {
   "cell_type": "code",
   "execution_count": null,
   "id": "775b6445-8198-463b-9e6c-cd0661612ccd",
   "metadata": {},
   "outputs": [],
   "source": []
  }
 ],
 "metadata": {
  "kernelspec": {
   "display_name": "Python 3 (ipykernel)",
   "language": "python",
   "name": "python3"
  },
  "language_info": {
   "codemirror_mode": {
    "name": "ipython",
    "version": 3
   },
   "file_extension": ".py",
   "mimetype": "text/x-python",
   "name": "python",
   "nbconvert_exporter": "python",
   "pygments_lexer": "ipython3",
   "version": "3.11.9"
  }
 },
 "nbformat": 4,
 "nbformat_minor": 5
}
